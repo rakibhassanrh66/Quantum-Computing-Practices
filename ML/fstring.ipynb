{
 "cells": [
  {
   "cell_type": "code",
   "execution_count": 2,
   "id": "71aa77a4-42f1-47db-96cf-71663678ef40",
   "metadata": {},
   "outputs": [
    {
     "name": "stdout",
     "output_type": "stream",
     "text": [
      " I am Rakib as ID 1554.\n"
     ]
    }
   ],
   "source": [
    "name = \"Rakib\"\n",
    "roll = 1554\n",
    "print(f\" I am {name} as ID {roll}.\")"
   ]
  },
  {
   "cell_type": "code",
   "execution_count": null,
   "id": "17eb08ca-290f-4af7-af7b-ef0b1834d163",
   "metadata": {},
   "outputs": [],
   "source": []
  }
 ],
 "metadata": {
  "kernelspec": {
   "display_name": "Python 3 (ipykernel)",
   "language": "python",
   "name": "python3"
  },
  "language_info": {
   "codemirror_mode": {
    "name": "ipython",
    "version": 3
   },
   "file_extension": ".py",
   "mimetype": "text/x-python",
   "name": "python",
   "nbconvert_exporter": "python",
   "pygments_lexer": "ipython3",
   "version": "3.13.3"
  }
 },
 "nbformat": 4,
 "nbformat_minor": 5
}
