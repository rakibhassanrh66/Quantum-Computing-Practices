{
 "cells": [
  {
   "cell_type": "code",
   "execution_count": 6,
   "id": "8b773b4a-70ae-46ed-af41-2a7adb08f2b0",
   "metadata": {},
   "outputs": [
    {
     "name": "stdout",
     "output_type": "stream",
     "text": [
      "I_am_Rakib\n",
      "Life e -pera nay-Chill\n",
      "Deeds-not-Word\n"
     ]
    }
   ],
   "source": [
    "print(\"I\", \"am\", \"Rakib\", sep=\"_\")\n",
    "print(\"Life e \", \"pera nay\", \"Chill\", sep=\"-\")\n",
    "print(\"Deeds\", \"not\", \"Word\", sep=\"-\")"
   ]
  },
  {
   "cell_type": "code",
   "execution_count": null,
   "id": "5fa5ff17-b394-4694-9772-62b82e7666fa",
   "metadata": {},
   "outputs": [],
   "source": []
  }
 ],
 "metadata": {
  "kernelspec": {
   "display_name": "Python 3 (ipykernel)",
   "language": "python",
   "name": "python3"
  },
  "language_info": {
   "codemirror_mode": {
    "name": "ipython",
    "version": 3
   },
   "file_extension": ".py",
   "mimetype": "text/x-python",
   "name": "python",
   "nbconvert_exporter": "python",
   "pygments_lexer": "ipython3",
   "version": "3.13.3"
  }
 },
 "nbformat": 4,
 "nbformat_minor": 5
}
