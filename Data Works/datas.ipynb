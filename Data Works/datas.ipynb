{
 "cells": [
  {
   "cell_type": "code",
   "execution_count": 1,
   "id": "760368b1-a1aa-43a4-99ca-d40655a81994",
   "metadata": {},
   "outputs": [
    {
     "name": "stdout",
     "output_type": "stream",
     "text": [
      "   Index Descriptor Name               Type  \\\n",
      "0      1        BalabanJ  Balaban's J index   \n",
      "1      2         BertzCT            BertzCT   \n",
      "2      3            Chi0        Chi indices   \n",
      "3      4            Chi1        Chi indices   \n",
      "4      5           Chi0v        Chi indices   \n",
      "\n",
      "                                         Description  Dimention  \\\n",
      "0  Balaban's J value for a molecule,Chem. Phys. L...          2   \n",
      "1  A topological index meant to quantify \"complex...          2   \n",
      "2  From equations (1),(9) and (10) of Rev. Comp. ...          2   \n",
      "3  From equations (1),(11) and (12) of Rev. Comp....          2   \n",
      "4  From equations (5),(9) and (10) of Rev. Comp. ...          2   \n",
      "\n",
      "             Extended class  \n",
      "0   Topological descriptors  \n",
      "1   Topological descriptors  \n",
      "2  Connectivity descriptors  \n",
      "3  Connectivity descriptors  \n",
      "4  Connectivity descriptors  \n",
      "<class 'pandas.core.frame.DataFrame'>\n",
      "RangeIndex: 196 entries, 0 to 195\n",
      "Data columns (total 6 columns):\n",
      " #   Column           Non-Null Count  Dtype \n",
      "---  ------           --------------  ----- \n",
      " 0   Index            196 non-null    int64 \n",
      " 1   Descriptor Name  196 non-null    object\n",
      " 2   Type             196 non-null    object\n",
      " 3   Description      196 non-null    object\n",
      " 4   Dimention        196 non-null    int64 \n",
      " 5   Extended class   196 non-null    object\n",
      "dtypes: int64(2), object(4)\n",
      "memory usage: 9.3+ KB\n",
      "None\n",
      "           Index   Dimention\n",
      "count  196.00000  196.000000\n",
      "mean    98.50000    1.459184\n",
      "std     56.72448    0.499607\n",
      "min      1.00000    1.000000\n",
      "25%     49.75000    1.000000\n",
      "50%     98.50000    1.000000\n",
      "75%    147.25000    2.000000\n",
      "max    196.00000    2.000000\n"
     ]
    }
   ],
   "source": [
    "import pandas as pd\n",
    "\n",
    "\n",
    "df = pd.read_excel('test.xlsx', engine='openpyxl')\n",
    "\n",
    "\n",
    "print(df.head())\n",
    "\n",
    "print(df.info())\n",
    "\n",
    "print(df.describe())\n"
   ]
  }
 ],
 "metadata": {
  "kernelspec": {
   "display_name": "Python 3 (ipykernel)",
   "language": "python",
   "name": "python3"
  },
  "language_info": {
   "codemirror_mode": {
    "name": "ipython",
    "version": 3
   },
   "file_extension": ".py",
   "mimetype": "text/x-python",
   "name": "python",
   "nbconvert_exporter": "python",
   "pygments_lexer": "ipython3",
   "version": "3.12.7"
  }
 },
 "nbformat": 4,
 "nbformat_minor": 5
}
