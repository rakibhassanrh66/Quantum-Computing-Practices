{
 "cells": [
  {
   "cell_type": "code",
   "execution_count": 2,
   "id": "477b3e5f-39e9-4ab9-82f6-d6c9a3be28e8",
   "metadata": {},
   "outputs": [
    {
     "name": "stdout",
     "output_type": "stream",
     "text": [
      "Name: Rakib ID: 1554\n"
     ]
    }
   ],
   "source": [
    "name = \"Rakib\"\n",
    "roll = 1554\n",
    "print(\"Name:\", name, \"ID:\", roll)"
   ]
  }
 ],
 "metadata": {
  "kernelspec": {
   "display_name": "Python 3 (ipykernel)",
   "language": "python",
   "name": "python3"
  },
  "language_info": {
   "codemirror_mode": {
    "name": "ipython",
    "version": 3
   },
   "file_extension": ".py",
   "mimetype": "text/x-python",
   "name": "python",
   "nbconvert_exporter": "python",
   "pygments_lexer": "ipython3",
   "version": "3.13.3"
  }
 },
 "nbformat": 4,
 "nbformat_minor": 5
}
