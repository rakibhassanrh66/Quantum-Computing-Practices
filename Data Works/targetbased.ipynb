{
 "cells": [
  {
   "cell_type": "code",
   "execution_count": 7,
   "id": "434703ec-ffd1-4107-b930-29f40fccf038",
   "metadata": {},
   "outputs": [
    {
     "name": "stdout",
     "output_type": "stream",
     "text": [
      "<class 'pandas.core.frame.DataFrame'>\n",
      "RangeIndex: 196 entries, 0 to 195\n",
      "Data columns (total 6 columns):\n",
      " #   Column           Non-Null Count  Dtype \n",
      "---  ------           --------------  ----- \n",
      " 0   Index            196 non-null    int64 \n",
      " 1   Descriptor Name  196 non-null    object\n",
      " 2   Type             196 non-null    object\n",
      " 3   Description      196 non-null    object\n",
      " 4   Dimention        196 non-null    int64 \n",
      " 5   Extended class   196 non-null    object\n",
      "dtypes: int64(2), object(4)\n",
      "memory usage: 9.3+ KB\n",
      "None\n",
      "Index              0\n",
      "Descriptor Name    0\n",
      "Type               0\n",
      "Description        0\n",
      "Dimention          0\n",
      "Extended class     0\n",
      "dtype: int64\n",
      "Accuracy: 0.97\n"
     ]
    }
   ],
   "source": [
    "import pandas as pd\n",
    "from sklearn.model_selection import train_test_split\n",
    "from sklearn.ensemble import RandomForestClassifier\n",
    "from sklearn.metrics import accuracy_score\n",
    "from sklearn.preprocessing import LabelEncoder\n",
    "\n",
    "\n",
    "df = pd.read_excel('test.xlsx', engine='openpyxl')\n",
    "\n",
    "\n",
    "print(df.info())\n",
    "print(df.isnull().sum())\n",
    "df = df.dropna()\n",
    "\n",
    "cat_cols = df.select_dtypes(include=['object']).columns\n",
    "le = LabelEncoder()\n",
    "for col in cat_cols:\n",
    "    df[col] = le.fit_transform(df[col])\n",
    "\n",
    "target_col = 'Extended class'  # <-- Your chosen target column name here\n",
    "X = df.drop(target_col, axis=1)\n",
    "y = df[target_col]\n",
    "\n",
    "X_train, X_test, y_train, y_test = train_test_split(X, y, test_size=0.2, random_state=42)\n",
    "\n",
    "model = RandomForestClassifier()\n",
    "model.fit(X_train, y_train)\n",
    "\n",
    "y_pred = model.predict(X_test)\n",
    "\n",
    "accuracy = accuracy_score(y_test, y_pred)\n",
    "print(f'Accuracy: {accuracy:.2f}')\n"
   ]
  }
 ],
 "metadata": {
  "kernelspec": {
   "display_name": "Python 3 (ipykernel)",
   "language": "python",
   "name": "python3"
  },
  "language_info": {
   "codemirror_mode": {
    "name": "ipython",
    "version": 3
   },
   "file_extension": ".py",
   "mimetype": "text/x-python",
   "name": "python",
   "nbconvert_exporter": "python",
   "pygments_lexer": "ipython3",
   "version": "3.12.7"
  }
 },
 "nbformat": 4,
 "nbformat_minor": 5
}
