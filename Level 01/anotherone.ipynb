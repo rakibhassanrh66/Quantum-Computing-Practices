{
 "cells": [
  {
   "cell_type": "code",
   "execution_count": 5,
   "id": "29becb1c-7343-40b8-801b-855248e768e9",
   "metadata": {},
   "outputs": [
    {
     "name": "stdout",
     "output_type": "stream",
     "text": [
      "{'00': 525, '01': 499}\n"
     ]
    }
   ],
   "source": [
    "from qiskit import QuantumCircuit, ClassicalRegister\n",
    "from qiskit_aer import Aer\n",
    "\n",
    "# Create a 2-qubit circuit\n",
    "circuit = QuantumCircuit(2)\n",
    "\n",
    "# Apply Hadamard gate to qubit 0\n",
    "circuit.h(0)\n",
    "\n",
    "# Add classical register\n",
    "creg = ClassicalRegister(2, name='c')\n",
    "circuit.add_register(creg)\n",
    "\n",
    "# Measure both qubits\n",
    "circuit.measure([0, 1], [0, 1])  # Simplified measurement syntax\n",
    "\n",
    "# Get simulator and run\n",
    "simulator = Aer.get_backend('qasm_simulator')\n",
    "job = simulator.run(circuit, shots=1024)\n",
    "result = job.result()\n",
    "\n",
    "# Get counts\n",
    "counts = result.get_counts()\n",
    "print(counts)"
   ]
  },
  {
   "cell_type": "code",
   "execution_count": null,
   "id": "e3440af1-8514-4109-ab03-ecff6d170b12",
   "metadata": {},
   "outputs": [],
   "source": []
  },
  {
   "cell_type": "code",
   "execution_count": null,
   "id": "45466512-e2ad-4c8d-85e4-1bbe4aa0e8c3",
   "metadata": {},
   "outputs": [],
   "source": []
  },
  {
   "cell_type": "code",
   "execution_count": null,
   "id": "59fa1b91-6bde-439b-a572-4aaedce43ea8",
   "metadata": {},
   "outputs": [],
   "source": []
  }
 ],
 "metadata": {
  "kernelspec": {
   "display_name": "Python 3 (ipykernel)",
   "language": "python",
   "name": "python3"
  },
  "language_info": {
   "codemirror_mode": {
    "name": "ipython",
    "version": 3
   },
   "file_extension": ".py",
   "mimetype": "text/x-python",
   "name": "python",
   "nbconvert_exporter": "python",
   "pygments_lexer": "ipython3",
   "version": "3.13.3"
  }
 },
 "nbformat": 4,
 "nbformat_minor": 5
}
