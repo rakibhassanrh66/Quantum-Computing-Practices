{
 "cells": [
  {
   "cell_type": "code",
   "execution_count": 1,
   "id": "22c9ad85-8332-4543-94bc-8eb9d23eb80f",
   "metadata": {},
   "outputs": [
    {
     "name": "stdout",
     "output_type": "stream",
     "text": [
      "Hello from practice fields :3 \n"
     ]
    }
   ],
   "source": [
    "print(\"Hello from practice fields :3 \")"
   ]
  }
 ],
 "metadata": {
  "kernelspec": {
   "display_name": "Python 3 (ipykernel)",
   "language": "python",
   "name": "python3"
  },
  "language_info": {
   "codemirror_mode": {
    "name": "ipython",
    "version": 3
   },
   "file_extension": ".py",
   "mimetype": "text/x-python",
   "name": "python",
   "nbconvert_exporter": "python",
   "pygments_lexer": "ipython3",
   "version": "3.13.3"
  }
 },
 "nbformat": 4,
 "nbformat_minor": 5
}
